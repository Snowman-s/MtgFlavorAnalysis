{
 "cells": [
  {
   "cell_type": "code",
   "execution_count": null,
   "metadata": {},
   "outputs": [],
   "source": [
    "!pip install requests"
   ]
  },
  {
   "cell_type": "code",
   "execution_count": null,
   "metadata": {},
   "outputs": [],
   "source": [
    "import requests\n",
    "import pandas as pd\n",
    "import json\n",
    "from time import sleep"
   ]
  },
  {
   "cell_type": "code",
   "execution_count": null,
   "metadata": {},
   "outputs": [],
   "source": [
    "# パラメーター\n",
    "\n",
    "get_all = False\n",
    "word = '我'"
   ]
  },
  {
   "cell_type": "code",
   "execution_count": null,
   "metadata": {},
   "outputs": [],
   "source": [
    "params = {\"order\":\"released\", \"q\":'lang:zhs ft:' + word}\n",
    "\n",
    "response = requests.get(\"https://api.scryfall.com/cards/search\", params=params)\n",
    "\n",
    "response_json = json.loads(response.text)"
   ]
  },
  {
   "cell_type": "code",
   "execution_count": null,
   "metadata": {},
   "outputs": [],
   "source": [
    "print(json.loads(response.text))"
   ]
  },
  {
   "cell_type": "code",
   "execution_count": null,
   "metadata": {},
   "outputs": [],
   "source": [
    "len(response_json[\"data\"]), response_json[\"data\"][0]"
   ]
  },
  {
   "cell_type": "code",
   "execution_count": null,
   "metadata": {},
   "outputs": [],
   "source": [
    "df = pd.DataFrame({\n",
    "  \"jname\":[],\n",
    "  \"cname\":[],\n",
    "  \"ename\":[],\n",
    "  \"jflavor\":[],\n",
    "  \"cflavor\":[],\n",
    "  \"eflavor\":[]\n",
    "})\n",
    "\n",
    "df"
   ]
  },
  {
   "cell_type": "code",
   "execution_count": null,
   "metadata": {},
   "outputs": [],
   "source": [
    "while True:\n",
    "  for i, card in enumerate(response_json[\"data\"]):\n",
    "    if(i % 10 == 0): print(i)\n",
    "\n",
    "    cname = card[\"printed_name\"] if \"printed_name\" in card else card[\"name\"]\n",
    "    \n",
    "    if not \"flavor_text\" in card: continue\n",
    "    cflavor = card[\"flavor_text\"]\n",
    "\n",
    "    jresponse = requests.get(\"https://api.scryfall.com/cards/\" + card[\"set\"] + \"/\" + card[\"collector_number\"] + \"/\" + \"ja\")\n",
    "    jresponse_json = json.loads(jresponse.text)\n",
    "    \n",
    "    if len(jresponse_json) == 0: continue\n",
    "\n",
    "    jcard = jresponse_json\n",
    "    if not \"flavor_text\" in jcard: continue\n",
    "\n",
    "    jname = jcard[\"printed_name\"] if \"printed_name\" in jcard else jcard[\"name\"]\n",
    "\n",
    "    sleep(0.05)\n",
    "\n",
    "    eresponse = requests.get(\"https://api.scryfall.com/cards/\" + card[\"set\"] + \"/\" + card[\"collector_number\"] + \"/\" + \"en\")\n",
    "    eresponse_json = json.loads(eresponse.text)\n",
    "    \n",
    "    if len(eresponse_json) == 0: continue\n",
    "\n",
    "    ecard = eresponse_json\n",
    "    if not \"flavor_text\" in ecard: continue\n",
    "\n",
    "    ename = ecard[\"printed_name\"] if \"printed_name\" in ecard else ecard[\"name\"]\n",
    "\n",
    "    sleep(0.05)\n",
    "\n",
    "    df = pd.concat([df, pd.DataFrame({\"jname\": [jname], \"cname\":[cname], \"ename\":[ename] , \n",
    "                                      \"jflavor\": [jcard[\"flavor_text\"].replace(\"\\n\", \"\\\\n\")], \n",
    "                                      \"cflavor\": [cflavor.replace(\"\\n\", \"\\\\n\")], \n",
    "                                      \"eflavor\":[ecard[\"flavor_text\"].replace(\"\\n\", \"\\\\n\")]})], ignore_index=True)\n",
    "  \n",
    "  if (not get_all) or (not response_json[\"has_more\"]): break\n",
    "\n",
    "  response = requests.get(response_json[\"next_page\"])\n",
    "\n",
    "  response_json = json.loads(response.text)\n"
   ]
  },
  {
   "cell_type": "code",
   "execution_count": null,
   "metadata": {},
   "outputs": [],
   "source": [
    "df.head()"
   ]
  },
  {
   "cell_type": "code",
   "execution_count": null,
   "metadata": {},
   "outputs": [],
   "source": [
    "df.to_csv(f'./out{word}{\"-get_all\" if get_all else \"\"}.csv', index=False)"
   ]
  }
 ],
 "metadata": {
  "kernelspec": {
   "display_name": "Python 3",
   "language": "python",
   "name": "python3"
  },
  "language_info": {
   "codemirror_mode": {
    "name": "ipython",
    "version": 3
   },
   "file_extension": ".py",
   "mimetype": "text/x-python",
   "name": "python",
   "nbconvert_exporter": "python",
   "pygments_lexer": "ipython3",
   "version": "3.11.8"
  }
 },
 "nbformat": 4,
 "nbformat_minor": 2
}
