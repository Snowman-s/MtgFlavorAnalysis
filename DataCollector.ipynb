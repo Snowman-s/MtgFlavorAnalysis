{
 "cells": [
  {
   "cell_type": "code",
   "execution_count": null,
   "metadata": {},
   "outputs": [],
   "source": [
    "%pip install matplotlib\n",
    "%pip install japanize-matplotlib\n",
    "\n",
    "import numpy as np\n",
    "import pandas as pd\n",
    "import matplotlib.pyplot as plt\n",
    "import japanize_matplotlib\n"
   ]
  },
  {
   "cell_type": "code",
   "execution_count": null,
   "metadata": {},
   "outputs": [],
   "source": [
    "df = pd.read_csv(\"./worked.csv\")\n",
    "\n",
    "df.head()"
   ]
  },
  {
   "cell_type": "code",
   "execution_count": null,
   "metadata": {},
   "outputs": [],
   "source": [
    "correspond_list = []\n",
    "\n",
    "for correspond_str in df[\"correspond\"].values:\n",
    "  if str(correspond_str) == \"nan\":\n",
    "    correspond_list.append(\"\")\n",
    "    continue\n",
    "  \n",
    "  correspond_list.extend(str(correspond_str).split(\"-\"))\n",
    "  \n",
    "correspond_list = pd.Series(correspond_list)\n",
    "correspond_list.value_counts()"
   ]
  },
  {
   "cell_type": "code",
   "execution_count": null,
   "metadata": {},
   "outputs": [],
   "source": [
    "counts = correspond_list.value_counts()\n",
    "\n",
    "top = counts[counts >= 5]\n",
    "top[\"<該当なし>\"] = top[\"\"]\n",
    "top.drop(\"\",inplace=True) \n",
    "top.sort_values(ascending=False, inplace=True)\n",
    "others = pd.Series([counts[counts <= 5].sum()], index=[\"その他\"])\n",
    "\n",
    "graph_data = pd.concat([top, others])\n",
    "\n",
    "print(graph_data)\n",
    "\n",
    "ax = graph_data.plot.pie(autopct=(lambda pct:int(np.round(pct/100.*np.sum(graph_data)))))\n",
    "\n"
   ]
  }
 ],
 "metadata": {
  "kernelspec": {
   "display_name": "Python 3",
   "language": "python",
   "name": "python3"
  },
  "language_info": {
   "codemirror_mode": {
    "name": "ipython",
    "version": 3
   },
   "file_extension": ".py",
   "mimetype": "text/x-python",
   "name": "python",
   "nbconvert_exporter": "python",
   "pygments_lexer": "ipython3",
   "version": "3.11.8"
  }
 },
 "nbformat": 4,
 "nbformat_minor": 2
}
