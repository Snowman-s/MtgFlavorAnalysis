{
 "cells": [
  {
   "cell_type": "code",
   "execution_count": null,
   "metadata": {},
   "outputs": [],
   "source": [
    "import pandas as pd\n",
    "import re"
   ]
  },
  {
   "cell_type": "code",
   "execution_count": null,
   "metadata": {},
   "outputs": [],
   "source": [
    "df = pd.read_csv(\"./out我.csv\")"
   ]
  },
  {
   "cell_type": "code",
   "execution_count": null,
   "metadata": {},
   "outputs": [],
   "source": [
    "if not \"correspond\" in df:\n",
    "  df[\"correspond\"] = None"
   ]
  },
  {
   "cell_type": "code",
   "execution_count": null,
   "metadata": {},
   "outputs": [],
   "source": [
    "df.head()"
   ]
  },
  {
   "cell_type": "code",
   "execution_count": null,
   "metadata": {},
   "outputs": [],
   "source": [
    "# 対応する言葉の候補リスト\n",
    "predict_list = []\n",
    "\n",
    "for i in range(len(df)):\n",
    "  data = \"\"\n",
    "  for r in re.finditer(\"我\", df.loc[i, \"cflavor\"]):\n",
    "    print(f'{i}: {df.loc[i, \"jflavor\"]} \\n {df.loc[i, \"cflavor\"]} \\n {df.loc[i, \"eflavor\"]}', flush=True)\n",
    "    \n",
    "    #予測を探す\n",
    "    predict = \"\"\n",
    "    for p in predict_list:\n",
    "      if p in df.loc[i, \"jflavor\"] and len(p) > len(predict):\n",
    "        predict = p\n",
    "\n",
    "    inp = input(f\"{r.start()},{predict}?\")\n",
    " \n",
    "    if inp == \"\" and predict != \"\":\n",
    "      inp = predict\n",
    "    elif inp == \"s\":\n",
    "      # s(kip)だったら空文字(一文の中に複数の我がある場合、予測を空文字で破棄する必要がある)\n",
    "      inp = \"\"\n",
    "\n",
    "    if inp != \"\" and not inp in predict_list:\n",
    "      predict_list.append(inp)\n",
    "    \n",
    "    if data == \"\":\n",
    "      data = inp\n",
    "    else:\n",
    "      data = f\"{data}-{inp}\"\n",
    "\n",
    "  df.loc[i, \"correspond\"] = data"
   ]
  },
  {
   "cell_type": "code",
   "execution_count": null,
   "metadata": {},
   "outputs": [],
   "source": [
    "df.head()"
   ]
  },
  {
   "cell_type": "code",
   "execution_count": null,
   "metadata": {},
   "outputs": [],
   "source": [
    "df.to_csv(\"./worked.csv\", index=False)"
   ]
  }
 ],
 "metadata": {
  "kernelspec": {
   "display_name": "Python 3",
   "language": "python",
   "name": "python3"
  },
  "language_info": {
   "codemirror_mode": {
    "name": "ipython",
    "version": 3
   },
   "file_extension": ".py",
   "mimetype": "text/x-python",
   "name": "python",
   "nbconvert_exporter": "python",
   "pygments_lexer": "ipython3",
   "version": "3.11.8"
  }
 },
 "nbformat": 4,
 "nbformat_minor": 2
}
